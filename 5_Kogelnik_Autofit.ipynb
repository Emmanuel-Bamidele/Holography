{
 "cells": [
  {
   "cell_type": "code",
   "execution_count": 1,
   "metadata": {},
   "outputs": [],
   "source": [
    "import numpy as np\n",
    "import math\n",
    "from scipy.optimize import *\n",
    "import pandas as pd\n",
    "from matplotlib import pyplot as plt\n",
    "from lmfit import Model"
   ]
  },
  {
   "cell_type": "code",
   "execution_count": 2,
   "metadata": {},
   "outputs": [
    {
     "data": {
      "text/html": [
       "<div>\n",
       "<style scoped>\n",
       "    .dataframe tbody tr th:only-of-type {\n",
       "        vertical-align: middle;\n",
       "    }\n",
       "\n",
       "    .dataframe tbody tr th {\n",
       "        vertical-align: top;\n",
       "    }\n",
       "\n",
       "    .dataframe thead th {\n",
       "        text-align: right;\n",
       "    }\n",
       "</style>\n",
       "<table border=\"1\" class=\"dataframe\">\n",
       "  <thead>\n",
       "    <tr style=\"text-align: right;\">\n",
       "      <th></th>\n",
       "      <th>DE_exp</th>\n",
       "      <th>stage_angle</th>\n",
       "    </tr>\n",
       "  </thead>\n",
       "  <tbody>\n",
       "    <tr>\n",
       "      <th>1</th>\n",
       "      <td>0.010416</td>\n",
       "      <td>-14.548</td>\n",
       "    </tr>\n",
       "    <tr>\n",
       "      <th>2</th>\n",
       "      <td>0.010502</td>\n",
       "      <td>-14.448</td>\n",
       "    </tr>\n",
       "    <tr>\n",
       "      <th>3</th>\n",
       "      <td>0.010502</td>\n",
       "      <td>-14.408</td>\n",
       "    </tr>\n",
       "    <tr>\n",
       "      <th>4</th>\n",
       "      <td>0.010570</td>\n",
       "      <td>-14.368</td>\n",
       "    </tr>\n",
       "    <tr>\n",
       "      <th>5</th>\n",
       "      <td>0.010591</td>\n",
       "      <td>-14.328</td>\n",
       "    </tr>\n",
       "  </tbody>\n",
       "</table>\n",
       "</div>"
      ],
      "text/plain": [
       "     DE_exp  stage_angle\n",
       "1  0.010416      -14.548\n",
       "2  0.010502      -14.448\n",
       "3  0.010502      -14.408\n",
       "4  0.010570      -14.368\n",
       "5  0.010591      -14.328"
      ]
     },
     "execution_count": 2,
     "metadata": {},
     "output_type": "execute_result"
    }
   ],
   "source": [
    "data = \"Feb_12_20_01.csv\"\n",
    "df = pd.read_csv(data)\n",
    "df.columns = ['XValue', 'Time', 'Laser_Power', 'Shutter', 'Ch_A', 'Ch_B', 'DE_exp', 'stage_angle']\n",
    "df = df.iloc[1:,]\n",
    "df.drop(df.columns[[0,1,2,3,4,5]], axis = 1, inplace = True)\n",
    "df.head()"
   ]
  },
  {
   "cell_type": "code",
   "execution_count": 3,
   "metadata": {},
   "outputs": [],
   "source": [
    "n = len(df.stage_angle) #number of angles considered\n",
    "Bragg_angle_ext = np.deg2rad(18) #Bragg angle for red beam, it is 12 for blue beam #EXTERNAL BRAGG\n",
    "Bragg_angle_int = np.arcsin((1/1.5)*(np.sin(Bragg_angle_ext)))\n",
    "df.stage_angle = np.deg2rad(df.stage_angle) #convert angles to radians to make them suitable for trigonometry functions\n",
    "df[\"ext_angle\"] = Bragg_angle_ext + df.stage_angle\n",
    "df[\"int_angle\"] = np.arcsin((1/1.5)*(np.sin(df.ext_angle))) #Snell's law for the external angle, to change to internal angles\n",
    "\n",
    "df['Delta_theta_ext'] = (df.ext_angle - Bragg_angle_ext) #get the deviation from bragg angle\n",
    "df['Delta_theta_int'] = (df.int_angle - Bragg_angle_int)\n",
    "\n",
    "Period = 1e-6\n",
    "n_nut = 1.5\n",
    "Lambda = 633e-9\n",
    "phi = 90\n",
    "Delta_Lambda = 0\n",
    "K = (2*math.pi)/Period\n",
    "Beta = (2*math.pi*(n_nut))/Lambda"
   ]
  },
  {
   "cell_type": "code",
   "execution_count": 4,
   "metadata": {},
   "outputs": [],
   "source": [
    "x = df.int_angle\n",
    "y = df.DE_exp - 0.01\n",
    "\n",
    "#----- Define the function with parameters\n",
    "def func(x, Delta_n, L):\n",
    "    nu = ((math.pi*Delta_n*L)/(Lambda)*((((np.cos(Bragg_angle_int)**2))-((K*np.cos(phi)*np.cos(Bragg_angle_int))/Beta))**0.5))\n",
    "    xi = (((df.Delta_theta_int*K*np.sin(phi-Bragg_angle_int)-((Delta_Lambda*K**2)/(4*np.pi*n_nut)))*L)/2*((np.cos(df.int_angle))-(K*np.cos(phi))/Beta))\n",
    "    df[\"xi\"] = xi\n",
    "    return ((np.sin(((nu**2)+(df.xi**2))**0.5)**2)/(1+(df.xi**2)/(nu**2)))\n"
   ]
  },
  {
   "cell_type": "code",
   "execution_count": 5,
   "metadata": {},
   "outputs": [
    {
     "name": "stdout",
     "output_type": "stream",
     "text": [
      "best_vals: [3.23488476e-03 2.40181355e-05]\n"
     ]
    }
   ],
   "source": [
    "init_vals = [3e-3, 21e-6]  # for [Delta_n,cen, L]\n",
    "best_vals, covar = curve_fit(func, x, y, p0=init_vals)\n",
    "print('best_vals: {}'.format(best_vals))"
   ]
  },
  {
   "cell_type": "code",
   "execution_count": 6,
   "metadata": {},
   "outputs": [
    {
     "name": "stdout",
     "output_type": "stream",
     "text": [
      "parameter names: ['Delta_n', 'L']\n",
      "independent variables: ['x']\n"
     ]
    }
   ],
   "source": [
    "gmodel = Model(func)\n",
    "print('parameter names: {}'.format(gmodel.param_names))\n",
    "print('independent variables: {}'.format(gmodel.independent_vars))"
   ]
  },
  {
   "cell_type": "code",
   "execution_count": 7,
   "metadata": {},
   "outputs": [],
   "source": [
    "params = gmodel.make_params(Delta_n=3e-3, L=21e-6)"
   ]
  },
  {
   "cell_type": "code",
   "execution_count": 8,
   "metadata": {},
   "outputs": [],
   "source": [
    "result = gmodel.fit(y, x=x, Delta_n=3e-3, L=21e-6)"
   ]
  },
  {
   "cell_type": "code",
   "execution_count": 9,
   "metadata": {},
   "outputs": [
    {
     "name": "stdout",
     "output_type": "stream",
     "text": [
      "[[Model]]\n",
      "    Model(func)\n",
      "[[Fit Statistics]]\n",
      "    # fitting method   = leastsq\n",
      "    # function evals   = 16\n",
      "    # data points      = 323\n",
      "    # variables        = 2\n",
      "    chi-square         = 0.00372253\n",
      "    reduced chi-square = 1.1597e-05\n",
      "    Akaike info crit   = -3668.83452\n",
      "    Bayesian info crit = -3661.27921\n",
      "[[Variables]]\n",
      "    Delta_n:  0.00323488 +/- 1.9135e-05 (0.59%) (init = 0.003)\n",
      "    L:        2.4018e-05 +/- 1.6094e-07 (0.67%) (init = 2.1e-05)\n",
      "[[Correlations]] (unreported correlations are < 0.100)\n",
      "    C(Delta_n, L) = -0.948\n"
     ]
    }
   ],
   "source": [
    "print(result.fit_report())"
   ]
  },
  {
   "cell_type": "code",
   "execution_count": 10,
   "metadata": {
    "scrolled": false
   },
   "outputs": [
    {
     "data": {
      "image/png": "[encoded data removed]",
      "text/plain": [
       "<Figure size 432x288 with 1 Axes>"
      ]
     },
     "metadata": {
      "needs_background": "light"
     },
     "output_type": "display_data"
    }
   ],
   "source": [
    "df.int_angle = np.rad2deg(df.int_angle)\n",
    "df.ext_angle = np.rad2deg(df.ext_angle)\n",
    "plt.plot(df.ext_angle, y*100, 'b.')\n",
    "plt.plot(df.ext_angle, result.init_fit*100, 'k--', label='initial fit')\n",
    "plt.plot(df.ext_angle, result.best_fit*100, 'r-', label='best fit')\n",
    "plt.title(\"Diffraction Efficiency vs θ_ext\")\n",
    "plt.xlabel(\"θ_ext (Degree)\")\n",
    "plt.ylabel(\"Diffraction Efficiency %\")\n",
    "plt.legend(loc='best')\n",
    "plt.show()"
   ]
  },
  {
   "cell_type": "code",
   "execution_count": 11,
   "metadata": {
    "scrolled": true
   },
   "outputs": [
    {
     "data": {
      "image/png": "[encoded data removed]",
      "text/plain": [
       "<Figure size 432x288 with 1 Axes>"
      ]
     },
     "metadata": {
      "needs_background": "light"
     },
     "output_type": "display_data"
    }
   ],
   "source": [
    "plt.plot(df.int_angle, y*100, 'b.')\n",
    "plt.plot(df.int_angle, result.init_fit*100, 'k--', label='initial fit')\n",
    "plt.plot(df.int_angle, result.best_fit*100, 'r-', label='best fit')\n",
    "plt.title(\"Diffraction Efficiency vs θ_int\")\n",
    "plt.xlabel(\"θ_int (Degree)\")\n",
    "plt.ylabel(\"Diffraction Efficiency %\")\n",
    "plt.legend(loc='best')\n",
    "plt.show()"
   ]
  },
  {
   "cell_type": "code",
   "execution_count": 12,
   "metadata": {},
   "outputs": [
    {
     "name": "stdout",
     "output_type": "stream",
     "text": [
      "The Modulation Parameter on bragg is:  0.41420957065907743\n",
      "Diffraction Efficiency at Bragg Condition is:  16.197925924780847 %\n"
     ]
    },
    {
     "data": {
      "text/plain": [
       "0.16197925924780845"
      ]
     },
     "execution_count": 12,
     "metadata": {},
     "output_type": "execute_result"
    }
   ],
   "source": [
    "dn = best_vals[0]\n",
    "d = best_vals[1]\n",
    "\n",
    "def onbragg(Lambda,Period,n_nut,phi,Delta_Lambda,dn,d):\n",
    "    K = (2*math.pi)/Period\n",
    "    Beta = (2*math.pi*(n_nut))/Lambda\n",
    "    nu = ((math.pi*dn*d)/(Lambda)*((((np.cos(Bragg_angle_int)**2))-((K*np.cos(phi)*np.cos(Bragg_angle_int))/Beta))**0.5))\n",
    "    DE_Kb = (np.sin(nu)**2)\n",
    "    print (\"The Modulation Parameter on bragg is: \", nu)\n",
    "    print(\"Diffraction Efficiency at Bragg Condition is: \", DE_Kb*100, \"%\")\n",
    "    return DE_Kb\n",
    "    \n",
    "    \n",
    "onbragg(633e-9, 1e-6, 1.5, 90, 0, dn, d)"
   ]
  }
 ],
 "metadata": {
  "kernelspec": {
   "display_name": "Python 3",
   "language": "python",
   "name": "python3"
  },
  "language_info": {
   "codemirror_mode": {
    "name": "ipython",
    "version": 3
   },
   "file_extension": ".py",
   "mimetype": "text/x-python",
   "name": "python",
   "nbconvert_exporter": "python",
   "pygments_lexer": "ipython3",
   "version": "3.7.3"
  }
 },
 "nbformat": 4,
 "nbformat_minor": 2
}
