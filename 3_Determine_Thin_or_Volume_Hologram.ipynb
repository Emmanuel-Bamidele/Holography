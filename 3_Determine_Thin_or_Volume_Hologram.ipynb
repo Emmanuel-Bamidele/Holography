{
 "cells": [
  {
   "cell_type": "markdown",
   "metadata": {},
   "source": [
    "### Q  and Grating Strength Parameter  \n",
    "*(Curtis et al. Holographic Data Storage, InPhase Technologies, Longmont, CO, USA, Wiley, 2010)* \n",
    "\n",
    "#### Q parameter (Klein and Cook, IEEE Trans, Sonics Ultrasonic., 1967)\n",
    "#### Grating strength Parameter (Moharan and Young, Appl, Opt., 1978)\n",
    "\n",
    "These parameters can be used to determine whether the grating of the hologram is in a thin (Multiple orders diffraction - Raman-Nath Diffraction regime) or thick media (Single order is diffracted - Bragg Diffraction regime).\n",
    "\n",
    "If Q is less than 1 and provided that the grating shows enough change in index which is a few % diffraction efficiency in thin media, the gratings will be considered to be in thin media and Raman-Nath diffraction regime\n",
    "\n",
    "If Q is greater than 1, the gratings will be considered to be in thick media, volume grating & Bragg diffraction regime\n",
    "\n",
    "Note: \n",
    "1. Hit *'Ctrl+enter'* on each cells\n",
    "2. Input all variables in the second cells and hit *'enter'* after each\n",
    "3. Hit *'Ctrl+enter'* on last cell after entering all parameters to see the output"
   ]
  },
  {
   "cell_type": "code",
   "execution_count": null,
   "metadata": {},
   "outputs": [],
   "source": [
    "import numpy as np"
   ]
  },
  {
   "cell_type": "code",
   "execution_count": 3,
   "metadata": {},
   "outputs": [
    {
     "name": "stdout",
     "output_type": "stream",
     "text": [
      "Enter the wavelength of light in a vacuum: 633e-9\n",
      "Enter the thickness of the recording layer: 20e-6\n",
      "Enter the nominal refractive index of the medium: 1.5\n",
      "Enter the grating period: 1e-6\n"
     ]
    }
   ],
   "source": [
    "Lambda = float(input(\"Enter the wavelength of light in a vacuum: \"))\n",
    "L = float(input(\"Enter the thickness of the recording layer: \"))\n",
    "n_nut = float(input(\"Enter the nominal refractive index of the medium: \"))\n",
    "Period = float(input(\"Enter the grating period: \"))"
   ]
  },
  {
   "cell_type": "code",
   "execution_count": 4,
   "metadata": {},
   "outputs": [
    {
     "name": "stdout",
     "output_type": "stream",
     "text": [
      "Q parameter shows Volume gratings or Bragg diffraction regime:  53.030083992595706\n"
     ]
    }
   ],
   "source": [
    "Q = (2*np.pi*Lambda*L)/(n_nut*(Period**2))\n",
    "if Q < 1:\n",
    "    print(\"Q parameter shows Thin Media or Raman-Nath diffraction regime: \", Q)\n",
    "elif Q>1:\n",
    "    print(\"Q parameter shows Volume gratings or Bragg diffraction regime: \", Q)\n",
    "    "
   ]
  }
 ],
 "metadata": {
  "kernelspec": {
   "display_name": "Python 3",
   "language": "python",
   "name": "python3"
  },
  "language_info": {
   "codemirror_mode": {
    "name": "ipython",
    "version": 3
   },
   "file_extension": ".py",
   "mimetype": "text/x-python",
   "name": "python",
   "nbconvert_exporter": "python",
   "pygments_lexer": "ipython3",
   "version": "3.7.3"
  }
 },
 "nbformat": 4,
 "nbformat_minor": 2
}
