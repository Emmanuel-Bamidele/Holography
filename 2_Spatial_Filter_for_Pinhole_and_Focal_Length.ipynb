{
 "cells": [
  {
   "cell_type": "code",
   "execution_count": 1,
   "metadata": {},
   "outputs": [],
   "source": [
    "import math"
   ]
  },
  {
   "cell_type": "code",
   "execution_count": 2,
   "metadata": {},
   "outputs": [
    {
     "name": "stdout",
     "output_type": "stream",
     "text": [
      "Enter the Wavelength(nm): 405\n",
      "Enter the input beam radius(mm): 0.3\n"
     ]
    }
   ],
   "source": [
    "#Get the variables input to calculate the radius of pinhole required\n",
    "Wavelength = int(input(\"Enter the Wavelength(nm): \"))\n",
    "In_Radius = float(input(\"Enter the input beam radius(mm): \"))"
   ]
  },
  {
   "cell_type": "code",
   "execution_count": 3,
   "metadata": {},
   "outputs": [
    {
     "name": "stdout",
     "output_type": "stream",
     "text": [
      "Wavelength is:  0.000405 mm\n"
     ]
    }
   ],
   "source": [
    "#Convert wavelength to mm\n",
    "Lambda = Wavelength*(1e-6)\n",
    "print(\"Wavelength is: \", Lambda, \"mm\")\n",
    "\n",
    "#To calculate the Radius of Pinhole needed for each of the len objectives \n",
    "def Pinhole(len_obj):\n",
    "    PH_Rad = (Lambda*160)/(math.pi*In_Radius*len_obj)\n",
    "    return PH_Rad"
   ]
  },
  {
   "cell_type": "code",
   "execution_count": 4,
   "metadata": {},
   "outputs": [
    {
     "name": "stdout",
     "output_type": "stream",
     "text": [
      "The radius of the pinhole needed for the selected lens objective is:  3.437746770784939   μm\n",
      "The Pinhole Diameter to use is:  10.313240312354816 μm\n"
     ]
    }
   ],
   "source": [
    "len_obj = 20\n",
    "Pinhole_Radius = Pinhole(len_obj)\n",
    "print(\"The radius of the pinhole needed for the selected lens objective is: \", (Pinhole_Radius*1000), \" \", \"μm\")\n",
    "print(\"The Pinhole Diameter to use is: \", (3*Pinhole_Radius*1000), 'μm') #multiply the pinhole diameter by 1.5 (Ph= (2w0)*1.5)"
   ]
  },
  {
   "cell_type": "code",
   "execution_count": 10,
   "metadata": {},
   "outputs": [],
   "source": [
    "if len_obj == 20:\n",
    "    fL_I = 9\n",
    "elif len_obj == 10:\n",
    "    fL_I = 16.5\n",
    "elif len_obj == 5:\n",
    "    fL_I = 25.4 "
   ]
  },
  {
   "cell_type": "code",
   "execution_count": 12,
   "metadata": {},
   "outputs": [
    {
     "name": "stdout",
     "output_type": "stream",
     "text": [
      "Enter the expected collimated beam diameter in millimeter: 10\n",
      "The focal length of collimated beam lens is:  150.0  mm\n"
     ]
    }
   ],
   "source": [
    "#To calculate the focal length of the collimated beam\n",
    "Waist_diameter = int(input(\"Enter the expected collimated beam diameter in millimeter: \")) #Spot_Size or waist diameter\n",
    "w_col = (Waist_diameter/2)   #waist radius of collimated beam\n",
    "\n",
    "focal_length = (fL_I * w_col)/In_Radius\n",
    "print(\"The focal length of collimated beam lens is: \", focal_length, \" mm\")"
   ]
  },
  {
   "cell_type": "code",
   "execution_count": null,
   "metadata": {},
   "outputs": [],
   "source": [
    "#To calculate the beam divergence \n",
    "theta = (Lambda/(math.pi*(Pinhole_Radius/1000))*(math.pi/180)) #from equation 3.1-19 Saleh and Teich\n",
    "print(\"The Divergence Angle is: \", theta, \"radians\")"
   ]
  },
  {
   "cell_type": "code",
   "execution_count": null,
   "metadata": {
    "scrolled": false
   },
   "outputs": [],
   "source": [
    "#To calculate the focal length of the collimated beam from beam divergence angle (Not working right)\n",
    "Waist_diameter = int(input(\"Enter the expected collimated beam diameter in millimeter: \")) #Spot_Size or waist diameter\n",
    "w_col = (Waist_diameter/2)   #waist radius of collimated beam\n",
    "Focus_Length = w_col/math.tan(theta)\n",
    "print(\"The Focus Length of Collimating Lens is: \", Focus_Length, \"mm\")"
   ]
  }
 ],
 "metadata": {
  "kernelspec": {
   "display_name": "Python 3",
   "language": "python",
   "name": "python3"
  },
  "language_info": {
   "codemirror_mode": {
    "name": "ipython",
    "version": 3
   },
   "file_extension": ".py",
   "mimetype": "text/x-python",
   "name": "python",
   "nbconvert_exporter": "python",
   "pygments_lexer": "ipython3",
   "version": "3.7.3"
  }
 },
 "nbformat": 4,
 "nbformat_minor": 2
}
