{
 "cells": [
  {
   "cell_type": "code",
   "execution_count": 1,
   "metadata": {},
   "outputs": [],
   "source": [
    "from datetime import datetime\n",
    "import numpy as np\n",
    "import math\n",
    "from scipy.optimize import *\n",
    "import pandas as pd\n",
    "from matplotlib import pyplot as plt\n",
    "from lmfit import Model"
   ]
  },
  {
   "cell_type": "markdown",
   "metadata": {},
   "source": [
    "### Inputs and Parameters"
   ]
  },
  {
   "cell_type": "code",
   "execution_count": 3,
   "metadata": {},
   "outputs": [],
   "source": [
    "#Units\n",
    "\n",
    "nano = 1e-9\n",
    "micro = 1e-6\n",
    "milli = 1e-3\n",
    "\n",
    "#Hologram_Recording_Parameters\n",
    "lambda_w = 405*nano\n",
    "lambda_r = 633*nano\n",
    "theta_bragg = np.deg2rad(11.68)\n",
    "\n",
    "#Materials_Parameters - changes based on the material being used\n",
    "n_mono = float(1.5)                        # Monomer index\n",
    "nP = float(1.6)                            # Polymer index\n",
    "nM = float(1.48)                           # Matrix index\n",
    "sigma = float(0.05)                        # Full conv shrinkage\n",
    "phimo = float(0.3)                         # Formulation monomer volume fraction\n",
    "mu = 0                                     # Attenuation coefficient, [1/m]\n",
    "Z = 50*micro                               # Sample thickness\n",
    "\n",
    "\n",
    "#Exposure Parameters\n",
    "LAMBDA = lambda_w/(2*np.sin(theta_bragg))          # Grating period of the hologram at 12 degree bragg angle normal to the surface, change the angle if bragg angke is different\n",
    "K_inc_air =  (2*np.pi)/lambda_w                    # Plane wave of the incident beam - in air\n",
    "K_ref_air =  (2*np.pi)/lambda_w                    # Plane wave of the reference beam  - in air\n",
    "K_read_air = (2*np.pi)/lambda_r                    # Plane wave of the reading beam - from recording beam in air\n",
    "K_inc =  (2*np.pi*nP)/lambda_w                     # Plane wave of the incident beam  - in polymer\n",
    "K_diff = (2*np.pi*nP)/lambda_r                     # Plane wave of the diffracted beam - from recording beam in polymer\n",
    "K = (2*np.pi)/(LAMBDA)                             # Wavevector of the beams, capital lambda is the period\n",
    "w_o_wrt = 100*micro                                # Waist radius of writing beams\n",
    "w_o_red = 20*micro                                 # Waist radius of reading beams\n",
    "Nt = 20                                            # Number of BPM time steps\n",
    "ExpT = 0.05                                        # Total exposure time multiplied by peak (NOT mean) polymerization rate\n",
    "Gm = 10                                            # Diff_monomer / (Lambda^2 R_P) where R_P is propagation rate (depends on initiator, intensity & reaction rate)\n",
    "Gr = 0                                             # Diff_radical / (Lambda^2 R_A) where R_A is attachment rate of mobile radicals to immobile matrix\n",
    "\n",
    "#Controls\n",
    "def Bragg_condition():\n",
    "    a_w = ((K/2)/K_inc_air)\n",
    "    a_r = ((K/2)/K_read_air)\n",
    "    theta_bragg_w = np.arcsin(a_w)            #Bragg Angle of the writing beam\n",
    "    theta_bragg_r = np.arcsin(a_r)            #Bragg Angle of the recording beam\n",
    "    theta_w = np.rad2deg(theta_bragg_w)\n",
    "    theta_r = np.rad2deg(theta_bragg_r)\n",
    "    Bragg_Condition = \"Bragg Angle of the writing beam: \", theta_w, \"Bragg Angle of the reading beam: \", theta_r\n",
    "    return Bragg_Condition\n",
    "\n",
    "def save_file():\n",
    "    Parameters = Bragg_condition()\n",
    "    return Parameters\n",
    "output = save_file()\n",
    "file = open(\"Data-s%\"+ str(datetime.today().strftime(\"%Y-%m-%d--%H_%p\")) + \".csv\",\"w\")\n",
    "file.write(str(output))\n",
    "file.close()"
   ]
  },
  {
   "cell_type": "markdown",
   "metadata": {},
   "source": [
    "### Numerical Calculations"
   ]
  },
  {
   "cell_type": "code",
   "execution_count": null,
   "metadata": {},
   "outputs": [],
   "source": []
  },
  {
   "cell_type": "markdown",
   "metadata": {},
   "source": [
    "### Extracting and Cleaning Data"
   ]
  },
  {
   "cell_type": "code",
   "execution_count": null,
   "metadata": {},
   "outputs": [],
   "source": [
    "data_exp1 = \"Data_num1.txt\"\n",
    "data_exp2 = \"Data_num2.txt\"\n",
    "data_exp3 = \"Data_num3.txt\"\n",
    "data_exp4 = \"Data_num4.txt\"\n",
    "data_exp5 = \"Data_num5.txt\"\n",
    "data_exp6 = \"Data_num6.txt\"\n",
    "data_exp7 = \"Data_num7.txt\"\n",
    "data_exp8 = \"Data_num8.txt\"\n",
    "data_exp9 = \"Data_num9.txt\"\n",
    "data_exp10 = \"Data_num10.txt\"\n",
    "data_exp11 = \"Data_num11.txt\"\n",
    "data_exp12 = \"Data_num12.txt\"\n",
    "data_exp13 = \"Data_num13.txt\"\n",
    "data_exp14 = \"Data_num14.txt\"\n",
    "data_exp15 = \"Data_num15.txt\"\n",
    "data_exp16 = \"Data_num16.txt\"\n",
    "data_exp17 = \"Data_num17.txt\"\n",
    "data_exp18 = \"Data_num18.txt\"\n",
    "data_exp19 = \"Data_num19.txt\"\n",
    "data_exp20 = \"Data_num20.txt\n",
    "\n",
    "Data = data_exp1\n",
    "df = pd.read_csv(data)\n",
    "df.columns = ['XValue', 'Time', 'Intensity', 'Wavelength', 'Incidence', 'Diffracted', 'DE_num', 'stage_angle', 'Exposure_Time']\n",
    "n = len(df.stage_angle) #number of angles considered\n",
    "Bragg_angle_ext = np.deg2rad(18) #Bragg angle for red beam, it is 12 for blue beam #EXTERNAL BRAGG\n",
    "Bragg_angle_int = np.arcsin((1/1.5)*(np.sin(Bragg_angle_ext)))\n",
    "df.stage_angle = np.deg2rad(df.stage_angle) #convert angles to radians to make them suitable for trigonometry functions\n",
    "df[\"ext_angle\"] = Bragg_angle_ext + df.stage_angle\n",
    "df[\"int_angle\"] = np.arcsin((1/1.5)*(np.sin(df.ext_angle))) #Snell's law for the external angle, to change to internal angles\n",
    "\n",
    "df['Delta_theta_ext'] = (df.ext_angle - Bragg_angle_ext) #get the deviation from bragg angle\n",
    "df['Delta_theta_int'] = (df.int_angle - Bragg_angle_int)\n",
    "\n",
    "phi = 90\n",
    "Delta_Lambda = 0"
   ]
  },
  {
   "cell_type": "markdown",
   "metadata": {},
   "source": [
    "### Bragg Selectivity using Kogelnik - Numeric and Kogelnik Theory"
   ]
  },
  {
   "cell_type": "code",
   "execution_count": null,
   "metadata": {},
   "outputs": [],
   "source": [
    "x = df.int_angle\n",
    "y = df.DE_num\n",
    "\n",
    "def func(x, Delta_n, L):\n",
    "    nu = ((math.pi*Delta_n*L)/(lambda_r)*((((np.cos(Bragg_angle_int)**2))-((K*np.cos(phi)*np.cos(Bragg_angle_int))/K_diff))**0.5))\n",
    "    xi = (((df.Delta_theta_int*K*np.sin(phi-Bragg_angle_int)-((Delta_Lambda*K**2)/(4*np.pi*nP)))*L)/2*((np.cos(df.int_angle))-(K*np.cos(phi))/K_diff))\n",
    "    df[\"xi\"] = xi\n",
    "    return ((np.sin(((nu**2)+(df.xi**2))**0.5)**2)/(1+(df.xi**2)/(nu**2)))\n",
    "\n",
    "def Bragg_Selectivity():\n",
    "    init_vals = [3e-3, 21e-6]  # for [Delta_n,cen, L]\n",
    "    best_vals, covar = curve_fit(func, x, y, p0=init_vals)\n",
    "    dn = best_vals[0]\n",
    "    d = best_vals[1]\n",
    "    return (dn, \" \", d)\n",
    "\n",
    "Bragg_Selectivity()\n",
    "f=open(\"Data.txt\".format(datetime.today()), \"a+\")\n",
    "file.write(\"Index Modulation (Theory): \" , dn)\n",
    "file.write(\"Photopolymer Thickness (Theory): \" , d)\n",
    "file.close()\n",
    "\n",
    "#Plot and fit data\n",
    "gmodel = Model(func)\n",
    "f=open(\"Data.txt\".format(datetime.today()), \"a+\")\n",
    "file.write('parameter names: {}'.format(gmodel.param_names))\n",
    "file.write('independent variables: {}'.format(gmodel.independent_vars))\n",
    "file.close()\n",
    "\n",
    "params = gmodel.make_params(Delta_n=3e-3, L=21e-6)\n",
    "result = gmodel.fit(y, x=x, Delta_n=3e-3, L=21e-6)\n",
    "f=open(\"Data.txt\".format(datetime.today()), \"a+\")\n",
    "file.write(result.fit_report())\n",
    "file.close()"
   ]
  },
  {
   "cell_type": "markdown",
   "metadata": {},
   "source": [
    "### Figures and Plots"
   ]
  },
  {
   "cell_type": "code",
   "execution_count": null,
   "metadata": {},
   "outputs": [],
   "source": [
    "#Bragg Selectivity - Angle Detuning\n",
    "\n",
    "\n",
    "#plot - ensure parameters are rightly named\n",
    "df.int_angle = np.rad2deg(df.int_angle)\n",
    "df.ext_angle = np.rad2deg(df.ext_angle)\n",
    "plt.plot(df.ext_angle, y*100, 'b.', label = 'Numeric')\n",
    "plt.plot(df.ext_angle, result.init_fit*100, 'k--', label='initial fit')\n",
    "plt.plot(df.ext_angle, result.best_fit*100, 'r-', label='best fit')\n",
    "plt.title(\"Diffraction Efficiency vs θ_ext\")\n",
    "plt.xlabel(\"θ_ext (Degree)\")\n",
    "plt.ylabel(\"Diffraction Efficiency %\")\n",
    "plt.legend(loc='best')\n",
    "plt.show()\n",
    "plt.savefig('filename.png')"
   ]
  },
  {
   "cell_type": "code",
   "execution_count": null,
   "metadata": {},
   "outputs": [],
   "source": [
    "# Shrinkage\n"
   ]
  },
  {
   "cell_type": "code",
   "execution_count": null,
   "metadata": {},
   "outputs": [],
   "source": [
    "#Index Modulation and Exposure Time\n"
   ]
  }
 ],
 "metadata": {
  "kernelspec": {
   "display_name": "Python 3",
   "language": "python",
   "name": "python3"
  },
  "language_info": {
   "codemirror_mode": {
    "name": "ipython",
    "version": 3
   },
   "file_extension": ".py",
   "mimetype": "text/x-python",
   "name": "python",
   "nbconvert_exporter": "python",
   "pygments_lexer": "ipython3",
   "version": "3.7.3"
  }
 },
 "nbformat": 4,
 "nbformat_minor": 2
}
