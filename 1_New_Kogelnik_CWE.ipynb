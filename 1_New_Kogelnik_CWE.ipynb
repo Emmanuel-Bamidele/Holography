{
 "cells": [
  {
   "cell_type": "code",
   "execution_count": 42,
   "metadata": {
    "scrolled": true
   },
   "outputs": [
    {
     "name": "stdout",
     "output_type": "stream",
     "text": [
      "The Modulation Parameter on bragg is:  0.4087559545490652\n",
      "Diffraction Efficiency at Bragg Condition is:  0.15798087448970546\n"
     ]
    },
    {
     "data": {
      "text/html": [
       "<div>\n",
       "<style scoped>\n",
       "    .dataframe tbody tr th:only-of-type {\n",
       "        vertical-align: middle;\n",
       "    }\n",
       "\n",
       "    .dataframe tbody tr th {\n",
       "        vertical-align: top;\n",
       "    }\n",
       "\n",
       "    .dataframe thead th {\n",
       "        text-align: right;\n",
       "    }\n",
       "</style>\n",
       "<table border=\"1\" class=\"dataframe\">\n",
       "  <thead>\n",
       "    <tr style=\"text-align: right;\">\n",
       "      <th></th>\n",
       "      <th>Time</th>\n",
       "      <th>DE_exp</th>\n",
       "      <th>angle</th>\n",
       "      <th>Delta_theta</th>\n",
       "      <th>xi</th>\n",
       "      <th>DE_Kogelnik</th>\n",
       "    </tr>\n",
       "  </thead>\n",
       "  <tbody>\n",
       "    <tr>\n",
       "      <th>1</th>\n",
       "      <td>46.599665</td>\n",
       "      <td>0.000416</td>\n",
       "      <td>-9.640209</td>\n",
       "      <td>-9.640209</td>\n",
       "      <td>-14.415652</td>\n",
       "      <td>0.000758</td>\n",
       "    </tr>\n",
       "    <tr>\n",
       "      <th>2</th>\n",
       "      <td>46.899682</td>\n",
       "      <td>0.000502</td>\n",
       "      <td>-9.574747</td>\n",
       "      <td>-9.574747</td>\n",
       "      <td>-14.320086</td>\n",
       "      <td>0.000805</td>\n",
       "    </tr>\n",
       "    <tr>\n",
       "      <th>3</th>\n",
       "      <td>46.899682</td>\n",
       "      <td>0.000502</td>\n",
       "      <td>-9.548558</td>\n",
       "      <td>-9.548558</td>\n",
       "      <td>-14.281839</td>\n",
       "      <td>0.000820</td>\n",
       "    </tr>\n",
       "    <tr>\n",
       "      <th>4</th>\n",
       "      <td>46.999688</td>\n",
       "      <td>0.000570</td>\n",
       "      <td>-9.522366</td>\n",
       "      <td>-9.522366</td>\n",
       "      <td>-14.243581</td>\n",
       "      <td>0.000833</td>\n",
       "    </tr>\n",
       "    <tr>\n",
       "      <th>5</th>\n",
       "      <td>47.099693</td>\n",
       "      <td>0.000591</td>\n",
       "      <td>-9.496171</td>\n",
       "      <td>-9.496171</td>\n",
       "      <td>-14.205312</td>\n",
       "      <td>0.000843</td>\n",
       "    </tr>\n",
       "  </tbody>\n",
       "</table>\n",
       "</div>"
      ],
      "text/plain": [
       "        Time    DE_exp     angle  Delta_theta         xi  DE_Kogelnik\n",
       "1  46.599665  0.000416 -9.640209    -9.640209 -14.415652     0.000758\n",
       "2  46.899682  0.000502 -9.574747    -9.574747 -14.320086     0.000805\n",
       "3  46.899682  0.000502 -9.548558    -9.548558 -14.281839     0.000820\n",
       "4  46.999688  0.000570 -9.522366    -9.522366 -14.243581     0.000833\n",
       "5  47.099693  0.000591 -9.496171    -9.496171 -14.205312     0.000843"
      ]
     },
     "execution_count": 42,
     "metadata": {},
     "output_type": "execute_result"
    }
   ],
   "source": [
    "import pandas as pd\n",
    "import math\n",
    "import numpy as np\n",
    "from scipy.stats import norm \n",
    "import matplotlib.pyplot as plt\n",
    "import ipywidgets as widgets\n",
    "from IPython.display import display\n",
    "%matplotlib inline\n",
    "\n",
    "\n",
    "data = (\"Feb_12_20_01.csv\") #copy the address of the data into the bracket\n",
    "df = pd.read_csv(data)\n",
    "df.columns = ['XValue', 'Time', 'Laser_Power', 'Shutter', 'Ch_A', 'Ch_B', 'DE_exp', 'angle'] #comment out if i want to test book.csv\n",
    "#df.columns = [\"angle\"]#, \"p1\", \"p2\"] #Uncomment this if i want to test book.csv\n",
    "#df.head()\n",
    "\n",
    "\n",
    "\n",
    "df = df.iloc[1:,] #comment out if i want to test book.csv\n",
    "#df['angle_ext'] = 18 - df.angle\n",
    "df.drop(df.columns[[0,2,3,4,5]], axis = 1, inplace = True) #comment out if i want to test book.csv\n",
    "\n",
    "n = len(df.angle) #number of angles considered\n",
    "Bragg_angle = np.deg2rad(18) #Bragg angle for red beam, it is 12 for blue beam\n",
    "Bragg_angle = np.arcsin((1/1.5)*(np.sin(Bragg_angle)))\n",
    "df.angle = np.deg2rad(df.angle) #convert angles to radians to make them suitable for trigonometry functions\n",
    "df.angle = np.arcsin((1/1.5)*(np.sin(df.angle))) #Snell's law for the external angle\n",
    "for i in range(n):\n",
    "    #D_theta = (df.angle - Bragg_angle) #get the deviation from bragg angle\n",
    "    D_theta = df.angle\n",
    "df['Delta_theta'] = D_theta\n",
    "\n",
    "'''Definition of variables\n",
    "n_one is the index perturbation\n",
    "L is the thickness of the recording layer\n",
    "Lambda is the wavelength of the light in the vacuum\n",
    "theta is the angle of reference beam outside the media (measured from normal)\n",
    "K is the grating number (2*pi/period)\n",
    "Period is the grating period\n",
    "n_nut is the bulk index of the material\n",
    "phi is grating slant angle inside the material measured from normal\n",
    "Beta is 2piEpsilon_nut^0.5/lambda\n",
    "Epsilon_nut is the bulk dielectric constant\n",
    "Delta_lambda is the deviation from the Bragg condition for wavelength\n",
    "Delta_theta is the deviation from the Bragg condition for angle'''\n",
    "\n",
    "\n",
    "def onbragg(Lambda,Period,n_nut,phi,Delta_Lambda,Delta_n,L):\n",
    "    K = (2*math.pi)/Period\n",
    "    Beta = (2*math.pi*(n_nut))/Lambda\n",
    "    nu = ((math.pi*Delta_n*L)/(Lambda)*((((np.cos(Bragg_angle)**2))-((K*np.cos(phi)*np.cos(Bragg_angle))/Beta))**0.5))\n",
    "    DE_Kb = (np.sin(nu)**2)\n",
    "    print (\"The Modulation Parameter on bragg is: \", nu)\n",
    "    print(\"Diffraction Efficiency at Bragg Condition is: \", DE_Kb)\n",
    "    return DE_Kb\n",
    "    \n",
    "    \n",
    "onbragg(633e-9, 1e-6, 1.5, 90, 0, 3.35e-3, 23e-6)\n",
    "\n",
    "\n",
    "def kogelnik(Lambda,Period,n_nut,phi,Delta_Lambda,Delta_n,L):\n",
    "    K = (2*math.pi)/Period\n",
    "    Beta = (2*math.pi*(n_nut))/Lambda\n",
    "    for i in range(n):\n",
    "        nu = ((math.pi*Delta_n*L)/(Lambda)*((((np.cos(Bragg_angle)**2))-((K*np.cos(phi)*np.cos(Bragg_angle))/Beta))**0.5))\n",
    "        xi = (((df.Delta_theta*K*np.sin(phi-Bragg_angle)-((Delta_Lambda*K**2)/(4*np.pi*n_nut)))*L)/2*((np.cos(df.angle))-(K*np.cos(phi))/Beta))\n",
    "        df[\"xi\"] = xi\n",
    "        DE_K = (np.sin(((nu**2)+(df.xi**2))**0.5)**2)/(1+(df.xi**2)/(nu**2)) \n",
    "    return DE_K\n",
    "\n",
    "'''Modifications\n",
    "I changed theta from Bragg_angle to df.angle and left theta_nut as Bragg_angle\n",
    "'''\n",
    "\n",
    "\n",
    "DE_K = kogelnik(633e-9, 1e-6, 1.5, 90, 0, 3.25e-3, 24e-6)\n",
    "df.Delta_theta = np.rad2deg(df.Delta_theta) #Convert Δθ from radians to degree\n",
    "df.angle = np.rad2deg(df.angle)\n",
    "#df.angle_ext = np.rad2deg(df.angle_ext)\n",
    "df[\"DE_Kogelnik\"] = DE_K\n",
    "df.DE_exp = df.DE_exp - 0.01 #remove stray light\n",
    "df.head() #View the top five rows\n",
    "#display(df) #view all"
   ]
  },
  {
   "cell_type": "code",
   "execution_count": 43,
   "metadata": {
    "scrolled": false
   },
   "outputs": [
    {
     "data": {
      "application/vnd.jupyter.widget-view+json": {
       "model_id": "13b77af79fc147499185c72b245df4de",
       "version_major": 2,
       "version_minor": 0
      },
      "text/plain": [
       "FloatSlider(value=1.0, description='Δn', max=5.0, min=1.0)"
      ]
     },
     "metadata": {},
     "output_type": "display_data"
    },
    {
     "data": {
      "image/png": "[encoded data removed]",
      "text/plain": [
       "<Figure size 432x288 with 1 Axes>"
      ]
     },
     "metadata": {
      "needs_background": "light"
     },
     "output_type": "display_data"
    }
   ],
   "source": [
    "Slider = widgets.FloatSlider(min = 1, max = 5, value=1, description = \"Δn\" )\n",
    "display(Slider)\n",
    "Delta_n = Slider\n",
    "\n",
    "#def updateplot(Delta_n):\n",
    "#    DE_K = kogelnik(633e-9, 1e-6, 1.5, 0, 0, Delta_n, 20e-6)\n",
    "#    return DE_K\n",
    "\n",
    "df[\"DE_Kogelnik\"] = DE_K\n",
    "plt.plot(df.angle, df.DE_Kogelnik)\n",
    "plt.title(\"Diffraction Efficiency vs Δθ\")\n",
    "plt.xlabel(\"Δθ\")\n",
    "plt.ylabel(\"Diffraction Efficiency\")\n",
    "#plt.ylim([0.992,1.001])\n",
    "#plt.xlim([-30,15])\n",
    "plt.grid()\n",
    "plt.show()\n",
    "\n",
    "#updateplot(Delta_n)"
   ]
  },
  {
   "cell_type": "code",
   "execution_count": 44,
   "metadata": {
    "scrolled": false
   },
   "outputs": [
    {
     "data": {
      "image/png": "[encoded data removed]",
      "text/plain": [
       "<Figure size 432x288 with 1 Axes>"
      ]
     },
     "metadata": {
      "needs_background": "light"
     },
     "output_type": "display_data"
    },
    {
     "data": {
      "text/plain": [
       "<Figure size 432x288 with 0 Axes>"
      ]
     },
     "metadata": {},
     "output_type": "display_data"
    }
   ],
   "source": [
    "#Plot the experiment data and fit Kogelnik\n",
    "plt.plot(df.angle, df.DE_exp, color='red', linewidth=1.5, label =\"Experiment\")\n",
    "plt.plot(df.angle, df.DE_Kogelnik, \"--\", color='blue', linewidth=1.5, label = \"Kogelnik\")\n",
    "plt.title(\"Diffraction Efficiency vs Δθ\")\n",
    "plt.xlabel(\"Δθ\")\n",
    "plt.ylabel(\"Diffraction Efficiency\")\n",
    "plt.legend()\n",
    "plt.grid()\n",
    "plt.show()\n",
    " \n",
    "plt.tight_layout()"
   ]
  }
 ],
 "metadata": {
  "kernelspec": {
   "display_name": "Python 3",
   "language": "python",
   "name": "python3"
  },
  "language_info": {
   "codemirror_mode": {
    "name": "ipython",
    "version": 3
   },
   "file_extension": ".py",
   "mimetype": "text/x-python",
   "name": "python",
   "nbconvert_exporter": "python",
   "pygments_lexer": "ipython3",
   "version": "3.7.3"
  }
 },
 "nbformat": 4,
 "nbformat_minor": 2
}
