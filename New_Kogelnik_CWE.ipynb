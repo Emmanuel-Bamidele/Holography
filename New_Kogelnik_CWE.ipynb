{
 "cells": [
  {
   "cell_type": "code",
   "execution_count": 150,
   "metadata": {
    "scrolled": true
   },
   "outputs": [
    {
     "name": "stdout",
     "output_type": "stream",
     "text": [
      "The Modulation Parameter on bragg is:  3.876058850443478\n",
      "Diffraction Efficiency at Bragg Condition is:  0.449156068332043\n"
     ]
    },
    {
     "data": {
      "text/html": [
       "<div>\n",
       "<style scoped>\n",
       "    .dataframe tbody tr th:only-of-type {\n",
       "        vertical-align: middle;\n",
       "    }\n",
       "\n",
       "    .dataframe tbody tr th {\n",
       "        vertical-align: top;\n",
       "    }\n",
       "\n",
       "    .dataframe thead th {\n",
       "        text-align: right;\n",
       "    }\n",
       "</style>\n",
       "<table border=\"1\" class=\"dataframe\">\n",
       "  <thead>\n",
       "    <tr style=\"text-align: right;\">\n",
       "      <th></th>\n",
       "      <th>Time</th>\n",
       "      <th>DE_exp</th>\n",
       "      <th>angle</th>\n",
       "      <th>angle_ext</th>\n",
       "      <th>Delta_theta</th>\n",
       "      <th>xi</th>\n",
       "      <th>DE_Kogelnik</th>\n",
       "    </tr>\n",
       "  </thead>\n",
       "  <tbody>\n",
       "    <tr>\n",
       "      <th>1</th>\n",
       "      <td>46.599665</td>\n",
       "      <td>0.000416</td>\n",
       "      <td>-14.548</td>\n",
       "      <td>32.548</td>\n",
       "      <td>-14.548</td>\n",
       "      <td>-15.512729</td>\n",
       "      <td>0.000024</td>\n",
       "    </tr>\n",
       "    <tr>\n",
       "      <th>2</th>\n",
       "      <td>46.899682</td>\n",
       "      <td>0.000502</td>\n",
       "      <td>-14.448</td>\n",
       "      <td>32.448</td>\n",
       "      <td>-14.448</td>\n",
       "      <td>-15.411916</td>\n",
       "      <td>0.000056</td>\n",
       "    </tr>\n",
       "    <tr>\n",
       "      <th>3</th>\n",
       "      <td>46.899682</td>\n",
       "      <td>0.000502</td>\n",
       "      <td>-14.408</td>\n",
       "      <td>32.408</td>\n",
       "      <td>-14.408</td>\n",
       "      <td>-15.371557</td>\n",
       "      <td>0.000072</td>\n",
       "    </tr>\n",
       "    <tr>\n",
       "      <th>4</th>\n",
       "      <td>46.999688</td>\n",
       "      <td>0.000570</td>\n",
       "      <td>-14.368</td>\n",
       "      <td>32.368</td>\n",
       "      <td>-14.368</td>\n",
       "      <td>-15.331179</td>\n",
       "      <td>0.000091</td>\n",
       "    </tr>\n",
       "    <tr>\n",
       "      <th>5</th>\n",
       "      <td>47.099693</td>\n",
       "      <td>0.000591</td>\n",
       "      <td>-14.328</td>\n",
       "      <td>32.328</td>\n",
       "      <td>-14.328</td>\n",
       "      <td>-15.290782</td>\n",
       "      <td>0.000111</td>\n",
       "    </tr>\n",
       "  </tbody>\n",
       "</table>\n",
       "</div>"
      ],
      "text/plain": [
       "        Time    DE_exp   angle  angle_ext  Delta_theta         xi  DE_Kogelnik\n",
       "1  46.599665  0.000416 -14.548     32.548      -14.548 -15.512729     0.000024\n",
       "2  46.899682  0.000502 -14.448     32.448      -14.448 -15.411916     0.000056\n",
       "3  46.899682  0.000502 -14.408     32.408      -14.408 -15.371557     0.000072\n",
       "4  46.999688  0.000570 -14.368     32.368      -14.368 -15.331179     0.000091\n",
       "5  47.099693  0.000591 -14.328     32.328      -14.328 -15.290782     0.000111"
      ]
     },
     "execution_count": 150,
     "metadata": {},
     "output_type": "execute_result"
    }
   ],
   "source": [
    "import pandas as pd\n",
    "import math\n",
    "import numpy as np\n",
    "from scipy.stats import norm \n",
    "import matplotlib.pyplot as plt\n",
    "import ipywidgets as widgets\n",
    "from IPython.display import display\n",
    "%matplotlib inline\n",
    "\n",
    "\n",
    "data = (\"Feb_12_20_01.csv\") #copy the address of the data into the bracket\n",
    "df = pd.read_csv(data)\n",
    "df.columns = ['XValue', 'Time', 'Laser_Power', 'Shutter', 'Ch_A', 'Ch_B', 'DE_exp', 'angle'] #comment out if i want to test book.csv\n",
    "#df.columns = [\"angle\"]#, \"p1\", \"p2\"] #Uncomment this if i want to test book.csv\n",
    "#df.head()\n",
    "\n",
    "\n",
    "\n",
    "df = df.iloc[1:,] #comment out if i want to test book.csv\n",
    "df['angle_ext'] = 18 - df.angle\n",
    "df.drop(df.columns[[0, 2,3,4,5]], axis = 1, inplace = True) #comment out if i want to test book.csv\n",
    "\n",
    "n = len(df.angle) #number of angles considere\n",
    "Bragg_angle = np.deg2rad(18) #Bragg angle for red beam, it is 12 for blue beam\n",
    "df.angle = np.deg2rad(df.angle) #convert angles to radians to make them suitable for trigonometry functions\n",
    "for i in range(n):\n",
    "    #D_theta = (df.angle - Bragg_angle) #get the deviation from bragg angle\n",
    "    D_theta = df.angle\n",
    "df['Delta_theta'] = D_theta\n",
    "\n",
    "'''Definition of variables\n",
    "n_one is the index perturbation\n",
    "L is the thickness of the recording layer\n",
    "Lambda is the wavelength of the light in the vacuum\n",
    "theta is the angle of reference beam outside the media (measured from normal)\n",
    "K is the grating number (2*pi/period)\n",
    "Period is the grating period\n",
    "n_nut is the bulk index of the material\n",
    "phi is grating slant angle inside the material measured from normal\n",
    "Beta is 2piEpsilon_nut^0.5/lambda\n",
    "Epsilon_nut is the bulk dielectric constant\n",
    "Delta_lambda is the deviation from the Bragg condition for wavelength\n",
    "Delta_theta is the deviation from the Bragg condition for angle'''\n",
    "\n",
    "def onbragg(Lambda,Period,n_nut,phi,Delta_Lambda,Delta_n,L):\n",
    "    K = (2*math.pi)/Period\n",
    "    Beta = (2*math.pi*(n_nut))/Lambda\n",
    "    nu = ((math.pi*Delta_n*L)/(Lambda)*((((np.cos(Bragg_angle)**2))-((K*np.cos(phi)*np.cos(Bragg_angle))/Beta))**0.5))\n",
    "    DE_Kb = (np.sin(nu)**2)\n",
    "    print (\"The Modulation Parameter on bragg is: \", nu)\n",
    "    print(\"Diffraction Efficiency at Bragg Condition is: \", DE_Kb)\n",
    "    return DE_Kb\n",
    "    \n",
    "    \n",
    "onbragg(633e-9, 1e-6, 1.5, 90, 0, 3e-3, 250e-6)\n",
    "\n",
    "\n",
    "def kogelnik(Lambda,Period,n_nut,phi,Delta_Lambda,Delta_n,L):\n",
    "    K = (2*math.pi)/Period\n",
    "    Beta = (2*math.pi*(n_nut))/Lambda\n",
    "    for i in range(n):\n",
    "        nu = ((math.pi*Delta_n*L)/(Lambda)*((((np.cos(df.angle)**2))-((K*np.cos(phi)*np.cos(df.angle))/Beta))**0.5))\n",
    "        xi = (((df.Delta_theta*K*np.sin(phi-Bragg_angle)-(Delta_Lambda*K**2)/(4*np.pi*n_nut))*L)/2*(np.cos(df.angle)-(K*np.cos(phi))/Beta))\n",
    "        df[\"xi\"] = xi\n",
    "        DE_K = (np.sin(((nu**2)+(df.xi**2))**0.5)**2)/(1+(df.xi**2)/(nu**2)) \n",
    "    return DE_K\n",
    "\n",
    "'''Modifications\n",
    "I changed theta from Bragg_angle to df.angle and left theta_nut as Bragg_angle\n",
    "'''\n",
    "\n",
    "\n",
    "DE_K = kogelnik(633e-9, 1e-6, 1.5, 90, 0, 4.5e-3, 17e-6)\n",
    "df.Delta_theta = np.rad2deg(df.Delta_theta) #Convert Δθ from radians to degree\n",
    "df.angle = np.rad2deg(df.angle)\n",
    "df[\"DE_Kogelnik\"] = DE_K\n",
    "df.DE_exp = df.DE_exp - 0.01\n",
    "df.head() #View the top five rows\n",
    "#display(df) #view all"
   ]
  },
  {
   "cell_type": "code",
   "execution_count": 151,
   "metadata": {
    "scrolled": true
   },
   "outputs": [
    {
     "data": {
      "application/vnd.jupyter.widget-view+json": {
       "model_id": "ba7059ba0b4b42668b68bda1c11f6453",
       "version_major": 2,
       "version_minor": 0
      },
      "text/plain": [
       "FloatSlider(value=1.0, description='Δn', max=5.0, min=1.0)"
      ]
     },
     "metadata": {},
     "output_type": "display_data"
    },
    {
     "data": {
      "image/png": "[encoded data removed]",
      "text/plain": [
       "<Figure size 432x288 with 1 Axes>"
      ]
     },
     "metadata": {
      "needs_background": "light"
     },
     "output_type": "display_data"
    }
   ],
   "source": [
    "Slider = widgets.FloatSlider(min = 1, max = 5, value=1, description = \"Δn\" )\n",
    "display(Slider)\n",
    "Delta_n = Slider\n",
    "\n",
    "#def updateplot(Delta_n):\n",
    "#    DE_K = kogelnik(633e-9, 1e-6, 1.5, 0, 0, Delta_n, 20e-6)\n",
    "#    return DE_K\n",
    "\n",
    "df[\"DE_Kogelnik\"] = DE_K\n",
    "plt.plot(df.Delta_theta, df.DE_Kogelnik)\n",
    "plt.title(\"Diffraction Efficiency vs Δθ\")\n",
    "plt.xlabel(\"Δθ\")\n",
    "plt.ylabel(\"Diffraction Efficiency\")\n",
    "#plt.ylim([0.992,1.001])\n",
    "#plt.xlim([-30,15])\n",
    "plt.grid()\n",
    "plt.show()\n",
    "\n",
    "#updateplot(Delta_n)"
   ]
  },
  {
   "cell_type": "code",
   "execution_count": 152,
   "metadata": {
    "scrolled": true
   },
   "outputs": [
    {
     "data": {
      "image/png": "[encoded data removed]",
      "text/plain": [
       "<Figure size 432x288 with 1 Axes>"
      ]
     },
     "metadata": {
      "needs_background": "light"
     },
     "output_type": "display_data"
    },
    {
     "data": {
      "text/plain": [
       "<Figure size 432x288 with 0 Axes>"
      ]
     },
     "metadata": {},
     "output_type": "display_data"
    }
   ],
   "source": [
    "#Plot the experiment data and fit Kogelnik\n",
    "plt.plot(df.Delta_theta, df.DE_exp, color='red', linewidth=1.5, label =\"Experiment\")\n",
    "plt.plot(df.Delta_theta, df.DE_Kogelnik, \"--\", color='blue', linewidth=1.5, label = \"Kogelnik\")\n",
    "plt.title(\"Diffraction Efficiency vs Δθ\")\n",
    "plt.xlabel(\"Δθ\")\n",
    "plt.ylabel(\"Diffraction Efficiency\")\n",
    "plt.legend()\n",
    "plt.grid()\n",
    "plt.show()\n",
    " \n",
    "plt.tight_layout()"
   ]
  }
 ],
 "metadata": {
  "kernelspec": {
   "display_name": "Python 3",
   "language": "python",
   "name": "python3"
  },
  "language_info": {
   "codemirror_mode": {
    "name": "ipython",
    "version": 3
   },
   "file_extension": ".py",
   "mimetype": "text/x-python",
   "name": "python",
   "nbconvert_exporter": "python",
   "pygments_lexer": "ipython3",
   "version": "3.7.3"
  }
 },
 "nbformat": 4,
 "nbformat_minor": 2
}
