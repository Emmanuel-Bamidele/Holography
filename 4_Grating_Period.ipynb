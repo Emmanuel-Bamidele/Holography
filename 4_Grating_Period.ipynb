{
 "cells": [
  {
   "cell_type": "markdown",
   "metadata": {},
   "source": [
    "## Calculating the Grating Period"
   ]
  },
  {
   "cell_type": "code",
   "execution_count": 14,
   "metadata": {},
   "outputs": [],
   "source": [
    "import numpy as np\n",
    "import pandas as pd\n",
    "import math"
   ]
  },
  {
   "cell_type": "code",
   "execution_count": 15,
   "metadata": {},
   "outputs": [
    {
     "name": "stdout",
     "output_type": "stream",
     "text": [
      "The spectral order: 1\n"
     ]
    }
   ],
   "source": [
    "m = int(input(\"The spectral order: \"))"
   ]
  },
  {
   "cell_type": "code",
   "execution_count": 16,
   "metadata": {
    "scrolled": true
   },
   "outputs": [
    {
     "name": "stdout",
     "output_type": "stream",
     "text": [
      "The wavelength in vacuum: 405e-9\n",
      "The refractive index of the medium: 1.5\n",
      "Slant angle: 90\n",
      "angle of diffraction from the grating normal: 12\n",
      "0.20943951023931956\n",
      "1.5707963267948966\n"
     ]
    }
   ],
   "source": [
    "Lambda = float(input(\"The wavelength in vacuum: \"))\n",
    "n = float(input(\"The refractive index of the medium: \"))\n",
    "#period = float(input(\"Gratings period: \"))\n",
    "phi = float(input(\"Slant angle: \"))\n",
    "theta_m = float(input(\"Bragg Angle: \"))\n",
    "\n",
    "theta_m = theta_m * (np.pi/180)\n",
    "phi = phi * (np.pi/180)\n"
   ]
  },
  {
   "cell_type": "markdown",
   "metadata": {},
   "source": [
    "### In Free Space"
   ]
  },
  {
   "cell_type": "code",
   "execution_count": 17,
   "metadata": {
    "scrolled": true
   },
   "outputs": [
    {
     "name": "stdout",
     "output_type": "stream",
     "text": [
      "The Grating period:  9.739712048106865e-10 µm\n"
     ]
    }
   ],
   "source": [
    "period = ((Lambda*1e-9)/(2*(np.sin(theta_m))))\n",
    "print(\"The Grating period: \", period*1e+6, \"µm\")"
   ]
  },
  {
   "cell_type": "markdown",
   "metadata": {},
   "source": [
    "### In a Medium"
   ]
  },
  {
   "cell_type": "code",
   "execution_count": 22,
   "metadata": {},
   "outputs": [
    {
     "name": "stdout",
     "output_type": "stream",
     "text": [
      "The wavelength in the medium is:  6.493141365404577e-16 nm\n",
      "The Grating period:  9.739712048106865e-10 µm\n"
     ]
    }
   ],
   "source": [
    "new_Lambda = Lambda/n\n",
    "new_period = ((new_Lambda*1e-9)/(2*(np.sin(theta_m))))\n",
    "print(\"The wavelength in the medium is: \", new_period, \"nm\")\n",
    "print(\"The Grating period: \", period*1e6, \"µm\")"
   ]
  },
  {
   "cell_type": "markdown",
   "metadata": {},
   "source": [
    "### Theta at a specific order"
   ]
  },
  {
   "cell_type": "code",
   "execution_count": 7,
   "metadata": {
    "scrolled": true
   },
   "outputs": [
    {
     "name": "stdout",
     "output_type": "stream",
     "text": [
      "The spectral order did not satisfy the condition\n"
     ]
    }
   ],
   "source": [
    "if m<(period/Lambda):\n",
    "    new_theta_m = np.arcsin((m*Lambda)/(period/1e+6))\n",
    "    print(\"The angle of diffraction at the specified order is: \", new_theta_m/(np.pi/180))\n",
    "else:\n",
    "    print(\"The spectral order did not satisfy the condition\")"
   ]
  },
  {
   "cell_type": "markdown",
   "metadata": {},
   "source": [
    "### Angular Dispersion\n",
    "\n",
    "The measure of the sensitivity of changes in angle theta_m of the m-th maximun to changes in wavelength Lambda."
   ]
  },
  {
   "cell_type": "code",
   "execution_count": 8,
   "metadata": {},
   "outputs": [
    {
     "name": "stdout",
     "output_type": "stream",
     "text": [
      "The Angular dispersion is:  1026602515.7437798 m\n"
     ]
    }
   ],
   "source": [
    "D = m/(period*np.cos(theta_m))\n",
    "print(\"The Angular dispersion is: \", D/1e+6, \"m\")"
   ]
  }
 ],
 "metadata": {
  "kernelspec": {
   "display_name": "Python 3",
   "language": "python",
   "name": "python3"
  },
  "language_info": {
   "codemirror_mode": {
    "name": "ipython",
    "version": 3
   },
   "file_extension": ".py",
   "mimetype": "text/x-python",
   "name": "python",
   "nbconvert_exporter": "python",
   "pygments_lexer": "ipython3",
   "version": "3.7.3"
  }
 },
 "nbformat": 4,
 "nbformat_minor": 2
}
