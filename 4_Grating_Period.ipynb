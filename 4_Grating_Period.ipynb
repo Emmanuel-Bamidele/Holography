{
 "cells": [
  {
   "cell_type": "markdown",
   "metadata": {},
   "source": [
    "## Calculating the Grating Period"
   ]
  },
  {
   "cell_type": "code",
   "execution_count": 2,
   "metadata": {},
   "outputs": [],
   "source": [
    "import numpy as np\n",
    "import pandas as pd\n",
    "import math"
   ]
  },
  {
   "cell_type": "code",
   "execution_count": 3,
   "metadata": {},
   "outputs": [
    {
     "name": "stdout",
     "output_type": "stream",
     "text": [
      "The spectral order: 1\n"
     ]
    }
   ],
   "source": [
    "m = int(input(\"The spectral order: \"))"
   ]
  },
  {
   "cell_type": "code",
   "execution_count": 4,
   "metadata": {
    "scrolled": true
   },
   "outputs": [
    {
     "name": "stdout",
     "output_type": "stream",
     "text": [
      "The wavelength in vacuum: 405\n",
      "The refractive index of the medium: 1.5\n",
      "Slant angle: 90\n",
      "angle of diffraction from the grating normal: 12\n",
      "0.20943951023931956\n",
      "1.5707963267948966\n"
     ]
    }
   ],
   "source": [
    "Lambda = float(input(\"The wavelength in vacuum: \"))\n",
    "n = float(input(\"The refractive index of the medium: \"))\n",
    "#period = float(input(\"Gratings period: \"))\n",
    "phi = float(input(\"Slant angle: \"))\n",
    "theta_m = float(input(\"angle of diffraction from the grating normal: \"))\n",
    "\n",
    "theta_m = theta_m * (np.pi/180)\n",
    "phi = phi * (np.pi/180)\n",
    "\n",
    "print(theta_m)\n",
    "print(phi)"
   ]
  },
  {
   "cell_type": "markdown",
   "metadata": {},
   "source": [
    "### In Free Space"
   ]
  },
  {
   "cell_type": "code",
   "execution_count": 5,
   "metadata": {
    "scrolled": true
   },
   "outputs": [
    {
     "name": "stdout",
     "output_type": "stream",
     "text": [
      "The Grating period:  0.9739712048106867 µm\n"
     ]
    }
   ],
   "source": [
    "period = ((Lambda*1e-9)/(2*(np.sin(theta_m))))\n",
    "print(\"The Grating period: \", period*1e+6, \"µm\")"
   ]
  },
  {
   "cell_type": "markdown",
   "metadata": {},
   "source": [
    "### In a Medium"
   ]
  },
  {
   "cell_type": "code",
   "execution_count": null,
   "metadata": {},
   "outputs": [],
   "source": [
    "new_Lambda = Lambda/n\n",
    "new_period = ((Lambda*1e-9)/(2*(np.sin(theta_m))))\n",
    "print(\"The wavelength in the medium is: \", new_Lamda, \"nm\")\n",
    "print(\"The Grating period: \", period*1e+6, \"µm\")"
   ]
  },
  {
   "cell_type": "markdown",
   "metadata": {},
   "source": [
    "### Theta at a specific order"
   ]
  },
  {
   "cell_type": "code",
   "execution_count": 22,
   "metadata": {
    "scrolled": true
   },
   "outputs": [
    {
     "name": "stdout",
     "output_type": "stream",
     "text": [
      "The angle of diffraction at the specified order is:  nan\n"
     ]
    },
    {
     "name": "stderr",
     "output_type": "stream",
     "text": [
      "c:\\users\\bamid\\appdata\\local\\programs\\python\\python37-32\\lib\\site-packages\\ipykernel_launcher.py:2: RuntimeWarning: invalid value encountered in arcsin\n",
      "  \n"
     ]
    }
   ],
   "source": [
    "if m<(period/Lambda):\n",
    "    new_theta_m = np.arcsin((m*Lambda)/(period/1e+6))\n",
    "    print(\"The angle of diffraction at the specified order is: \", new_theta_m/(np.pi/180))\n",
    "else:\n",
    "    print(\"The spectral order did not satisfy the condition\")"
   ]
  },
  {
   "cell_type": "markdown",
   "metadata": {},
   "source": [
    "### Angular Dispersion\n",
    "\n",
    "The measure of the sensitivity of changes in angle theta_m of the m-th maximun to changes in wavelength Lambda."
   ]
  },
  {
   "cell_type": "code",
   "execution_count": 23,
   "metadata": {},
   "outputs": [
    {
     "name": "stdout",
     "output_type": "stream",
     "text": [
      "The Angular dispersion is:  1.4398541417608772 m\n"
     ]
    }
   ],
   "source": [
    "D = m/(period*np.cos(theta_m))\n",
    "print(\"The Angular dispersion is: \", D/1e+6, \"m\")"
   ]
  }
 ],
 "metadata": {
  "kernelspec": {
   "display_name": "Python 3",
   "language": "python",
   "name": "python3"
  },
  "language_info": {
   "codemirror_mode": {
    "name": "ipython",
    "version": 3
   },
   "file_extension": ".py",
   "mimetype": "text/x-python",
   "name": "python",
   "nbconvert_exporter": "python",
   "pygments_lexer": "ipython3",
   "version": "3.7.3"
  }
 },
 "nbformat": 4,
 "nbformat_minor": 2
}
